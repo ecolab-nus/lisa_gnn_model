{
 "cells": [
  {
   "cell_type": "code",
   "execution_count": 1,
   "metadata": {
    "collapsed": true
   },
   "outputs": [],
   "source": [
    "import os\n",
    "import numpy as np\n",
    "\n",
    "def load_data(graph_dir, label_dir, id_label):\n",
    "\n",
    "    graph_files = os.listdir(graph_dir)\n",
    "    info = {}\n",
    "    for file in graph_files:\n",
    "        if not file.endswith(\".txt\"):\n",
    "            continue\n",
    "\n",
    "        # Get edge data\n",
    "        edge = []\n",
    "        f_graph = open(os.path.join(graph_dir, file), 'r')\n",
    "        for line in f_graph:\n",
    "            a, b = line.strip().split('\\t')\n",
    "            edge.append([int(a), int(b)])\n",
    "\n",
    "        f_graph.close()\n",
    "\n",
    "        # Get label data\n",
    "        x = []\n",
    "        y = []\n",
    "        f_label = open(os.path.join(label_dir, file), 'r')\n",
    "        for line in f_label:\n",
    "            a, b = line.strip().split('#')\n",
    "            a = a.split('\\t')\n",
    "            b = b.split('\\t')\n",
    "            x.append([int(m_x) for m_x in a])\n",
    "            y.append(int(b[id_label]))\n",
    "        f_label.close()\n",
    "\n",
    "        info[int(file.strip('.txt'))] ={\"edge\": edge, \"label\":y, \"feature\":x}\n",
    "\n",
    "    return info"
   ]
  },
  {
   "cell_type": "code",
   "execution_count": 2,
   "outputs": [
    {
     "data": {
      "text/plain": "array([[ 0.        ,  0.63719472],\n       [23.        ,  0.63719472],\n       [17.        ,  0.63719472],\n       [16.        ,  0.63719472],\n       [24.        ,  0.63719472],\n       [12.        ,  0.63719472],\n       [22.        ,  0.63719472],\n       [10.        ,  0.63719472],\n       [ 5.        ,  0.63719472],\n       [ 4.        ,  0.63719472],\n       [ 3.        ,  0.63719472],\n       [ 2.        ,  0.63719472],\n       [ 1.        ,  0.63719472],\n       [20.        ,  0.63719472],\n       [44.        ,  0.81773383],\n       [41.        ,  0.81773383],\n       [57.        ,  0.81773383],\n       [37.        ,  0.81773383],\n       [34.        ,  0.81773383],\n       [33.        ,  0.81773383],\n       [50.        ,  0.81773383],\n       [79.        ,  0.81773383],\n       [19.        ,  0.81773383],\n       [ 8.        ,  0.81773383],\n       [ 9.        ,  0.81773383],\n       [11.        ,  0.81773383],\n       [ 7.        ,  0.81773383],\n       [18.        ,  0.81773383],\n       [15.        ,  0.81773383],\n       [39.        ,  0.90800338],\n       [72.        ,  0.90800338],\n       [29.        ,  0.90800338],\n       [26.        ,  0.90800338],\n       [25.        ,  0.90800338],\n       [21.        ,  0.98474188],\n       [38.        ,  0.98474188],\n       [27.        ,  0.98474188],\n       [13.        ,  0.98474188],\n       [30.        ,  0.98474188],\n       [48.        ,  1.02311113],\n       [40.        ,  1.05572985],\n       [42.        ,  1.05572985],\n       [45.        ,  1.05572985],\n       [51.        ,  1.16528099],\n       [53.        ,  1.16528099],\n       [70.        ,  1.16528099],\n       [28.        ,  1.20345631],\n       [35.        ,  1.20345631],\n       [65.        ,  1.25555054],\n       [32.        ,  1.33228904],\n       [ 6.        ,  1.33228904],\n       [46.        ,  1.3566997 ],\n       [77.        ,  1.3566997 ],\n       [63.        ,  1.3566997 ],\n       [56.        ,  1.37065829],\n       [49.        ,  1.37065829],\n       [73.        ,  1.40327701],\n       [59.        ,  1.40327701],\n       [71.        ,  1.40327701],\n       [36.        ,  1.46819964],\n       [52.        ,  1.47180745],\n       [64.        ,  1.51282815],\n       [69.        ,  1.51282815],\n       [67.        ,  1.55100347],\n       [74.        ,  1.55100347],\n       [43.        ,  1.6798362 ],\n       [75.        ,  1.74507363],\n       [54.        ,  1.80828108],\n       [61.        ,  1.91689596],\n       [14.        ,  1.95560009],\n       [78.        ,  2.06877684],\n       [55.        ,  2.15593292],\n       [62.        ,  2.18825302],\n       [60.        ,  2.35812654],\n       [76.        ,  2.46481222],\n       [31.        ,  2.65069441],\n       [58.        ,  2.65106713],\n       [47.        ,  3.16091908],\n       [68.        ,  3.17880027],\n       [66.        ,  3.26436878]])"
     },
     "execution_count": 2,
     "metadata": {},
     "output_type": "execute_result"
    }
   ],
   "source": [
    "info = load_data(\"../data/raw/graph\", \"../data/raw/label\", 0)\n",
    "import networkx as nx\n",
    "G=nx.DiGraph()\n",
    "edges = info[0]['edge']\n",
    "feature = info[0]['feature']\n",
    "label = info[0]['label']\n",
    "for edge in edges:\n",
    "    G.add_edge(edge[0], edge[1])\n",
    "pr=nx.pagerank(G, alpha=0.85)\n",
    "score = []\n",
    "for i in range(len(pr)):\n",
    "    score.append([i, pr[i]*100])\n",
    "score = np.array(score)\n",
    "score[score[:,1].argsort()]"
   ],
   "metadata": {
    "collapsed": false,
    "pycharm": {
     "name": "#%%import os\n"
    }
   }
  },
  {
   "cell_type": "code",
   "execution_count": 3,
   "outputs": [
    {
     "name": "stdout",
     "output_type": "stream",
     "text": [
      "0.6708860759493671\n"
     ]
    }
   ],
   "source": [
    "corr = 0\n",
    "for i in range(len(pr)-1):\n",
    "    if label[int(score[i][0])] < label[int(score[i+1][0])] or label[int(score[i][0])] == label[int(score[i+1][0])]:\n",
    "        corr += 1\n",
    "print(corr/(len(pr)-1))\n"
   ],
   "metadata": {
    "collapsed": false,
    "pycharm": {
     "name": "#%%\n"
    }
   }
  }
 ],
 "metadata": {
  "kernelspec": {
   "display_name": "Python 3",
   "language": "python",
   "name": "python3"
  },
  "language_info": {
   "codemirror_mode": {
    "name": "ipython",
    "version": 2
   },
   "file_extension": ".py",
   "mimetype": "text/x-python",
   "name": "python",
   "nbconvert_exporter": "python",
   "pygments_lexer": "ipython2",
   "version": "2.7.6"
  }
 },
 "nbformat": 4,
 "nbformat_minor": 0
}